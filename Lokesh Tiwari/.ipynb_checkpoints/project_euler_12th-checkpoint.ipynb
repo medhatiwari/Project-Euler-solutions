{
 "cells": [
  {
   "cell_type": "code",
   "execution_count": 1,
   "metadata": {},
   "outputs": [
    {
     "name": "stdout",
     "output_type": "stream",
     "text": [
      "Requirement already satisfied: numba in c:\\users\\user\\anaconda3\\lib\\site-packages (0.51.2)\n",
      "Requirement already satisfied: llvmlite<0.35,>=0.34.0.dev0 in c:\\users\\user\\anaconda3\\lib\\site-packages (from numba) (0.34.0)\n",
      "Requirement already satisfied: numpy>=1.15 in c:\\users\\user\\anaconda3\\lib\\site-packages (from numba) (1.19.2)\n",
      "Requirement already satisfied: setuptools in c:\\users\\user\\anaconda3\\lib\\site-packages (from numba) (50.3.1.post20201107)\n"
     ]
    }
   ],
   "source": [
    "!pip install numba"
   ]
  },
  {
   "cell_type": "code",
   "execution_count": 1,
   "metadata": {},
   "outputs": [
    {
     "name": "stdout",
     "output_type": "stream",
     "text": [
      "500\n",
      "first triangular number with more than 500 divisors is 76576500\n",
      "time taken = 4.01793098449707\n"
     ]
    }
   ],
   "source": [
    "from numba import jit\n",
    "import time\n",
    "import math as m\n",
    "\n",
    "@jit(nopython=True)\n",
    "def tellprime(z):\n",
    "    if z==2:\n",
    "        return True\n",
    "    elif z==3:\n",
    "        return True\n",
    "    else:\n",
    "        i = 2\n",
    "        l = m.sqrt(z)\n",
    "        u = True \n",
    "        while i<=l and u:\n",
    "            if z%i==0:\n",
    "                return False\n",
    "                break\n",
    "            elif i+1>l and z%i != 0:\n",
    "                return True\n",
    "                break\n",
    "            else:\n",
    "                i+=1\n",
    "            u = (i%6 in [1,5]) or (i in [2,3])\n",
    "            while u == False:\n",
    "                i+=1\n",
    "                if z%i==0:\n",
    "                    return False\n",
    "                    break\n",
    "                elif i+1>l and z%i != 0:\n",
    "                    return True\n",
    "                    break\n",
    "                u = i%6 in [1,5]\n",
    "tellprime(71)\n",
    "\n",
    "g = []\n",
    "start = time.time()\n",
    "def prime_factorisation(n):\n",
    "    if tellprime(n):\n",
    "        g.append(n)\n",
    "    else:\n",
    "        if n%2==0:\n",
    "            g.append(2)\n",
    "            n = int(n/2)\n",
    "            prime_factorisation(n)\n",
    "            return\n",
    "        if n%3==0:\n",
    "            g.append(3)\n",
    "            n = int(n/3)\n",
    "            prime_factorisation(n)\n",
    "            return\n",
    "        i = 1\n",
    "        h = int(int(n/6)/2)+2\n",
    "        while i<=h:\n",
    "            if n%(6*i-1)==0:\n",
    "                g.append((6*i-1))\n",
    "                n = int(n/(6*i-1))\n",
    "                prime_factorisation(n)\n",
    "                return\n",
    "                break\n",
    "            if n%(6*i+1)==0:\n",
    "                g.append((6*i+1))\n",
    "                n = int(n/(6*i+1))\n",
    "                prime_factorisation(n)\n",
    "                return\n",
    "                break\n",
    "            i+=1   \n",
    "\n",
    "start = time.time()\n",
    "n = int(input())\n",
    "j = 0\n",
    "i = 1\n",
    "while True:\n",
    "    g = []\n",
    "    j = int((i*(i+1))/2)\n",
    "    prime_factorisation(j)\n",
    "    s = set(g)\n",
    "    d_e = list(s)\n",
    "    number_of_divisors = 1\n",
    "    a = 0\n",
    "    while a < len(d_e):\n",
    "        number_of_divisors *= (g.count(d_e[a])+1)\n",
    "        a+=1\n",
    "    if number_of_divisors>n:\n",
    "        print(\"first triangular number with more than \"+str(n)+' divisors is '+str(j))\n",
    "        break\n",
    "    i+=1\n",
    "end = time.time()\n",
    "print('time taken = ' + str(end-start))"
   ]
  },
  {
   "cell_type": "code",
   "execution_count": null,
   "metadata": {},
   "outputs": [],
   "source": []
  }
 ],
 "metadata": {
  "kernelspec": {
   "display_name": "Python 3",
   "language": "python",
   "name": "python3"
  },
  "language_info": {
   "codemirror_mode": {
    "name": "ipython",
    "version": 3
   },
   "file_extension": ".py",
   "mimetype": "text/x-python",
   "name": "python",
   "nbconvert_exporter": "python",
   "pygments_lexer": "ipython3",
   "version": "3.8.5"
  }
 },
 "nbformat": 4,
 "nbformat_minor": 4
}
