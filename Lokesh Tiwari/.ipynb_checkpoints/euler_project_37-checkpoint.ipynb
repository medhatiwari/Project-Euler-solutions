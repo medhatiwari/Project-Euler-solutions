{
 "cells": [
  {
   "cell_type": "code",
   "execution_count": 73,
   "metadata": {},
   "outputs": [
    {
     "data": {
      "text/plain": [
       "True"
      ]
     },
     "execution_count": 73,
     "metadata": {},
     "output_type": "execute_result"
    }
   ],
   "source": [
    "import numpy as np\n",
    "from numba import njit\n",
    "import math as m \n",
    "import time\n",
    "start = time.time()\n",
    "@njit\n",
    "def tellprime(z):\n",
    "    if z==1:\n",
    "        return False\n",
    "    elif z==2:\n",
    "        return True\n",
    "    elif z==3:\n",
    "        return True\n",
    "    else:\n",
    "        i = 2\n",
    "        l = m.sqrt(z)\n",
    "        u = True \n",
    "        while i<=l and u:\n",
    "            if z%i==0:\n",
    "                return False\n",
    "                break\n",
    "            elif i+1>l and z%i != 0:\n",
    "                return True\n",
    "                break\n",
    "            else:\n",
    "                i+=1\n",
    "            u = (i%6 in [1,5]) or (i in [2,3])\n",
    "            while u == False:\n",
    "                i+=1\n",
    "                if z%i==0:\n",
    "                    return False\n",
    "                    break\n",
    "                elif i+1>l and z%i != 0:\n",
    "                    return True\n",
    "                    break\n",
    "                u = i%6 in [1,5]              \n",
    "tellprime(23)   "
   ]
  },
  {
   "cell_type": "code",
   "execution_count": 74,
   "metadata": {},
   "outputs": [],
   "source": [
    "def give(n):\n",
    "    global arr_of_primes\n",
    "    arr_of_primes = {2,3}\n",
    "    i = 1\n",
    "    z = int(n/6)\n",
    "    if tellprime(6*z-1):\n",
    "        arr_of_primes.add(6*z-1)\n",
    "    if tellprime(6*z+1) and (6*z+1)<n:\n",
    "        arr_of_primes.add(6*z+1)\n",
    "    while i < z:\n",
    "        if tellprime(6*i-1):\n",
    "            arr_of_primes.add(6*i-1)\n",
    "        if tellprime(6*i+1):\n",
    "            arr_of_primes.add(6*i+1)\n",
    "        i += 1\n",
    "    return arr_of_primes"
   ]
  },
  {
   "cell_type": "code",
   "execution_count": 75,
   "metadata": {},
   "outputs": [],
   "source": [
    "def is_truncable_prime(num):\n",
    "    if tellprime(num):\n",
    "        seperator = ''\n",
    "        num = list(str(num))\n",
    "        for i in range(1,len(num)+1):\n",
    "            trash = num[0:i]\n",
    "            if tellprime(int(seperator.join(trash)))==False:\n",
    "                return False\n",
    "        for i in range(1,len(num)-1):\n",
    "            trash = num[i:len(num)]\n",
    "            if tellprime(int(seperator.join(trash)))==False:\n",
    "                return False\n",
    "        return True\n",
    "    else:\n",
    "        return False"
   ]
  },
  {
   "cell_type": "code",
   "execution_count": 76,
   "metadata": {},
   "outputs": [
    {
     "data": {
      "text/plain": [
       "True"
      ]
     },
     "execution_count": 76,
     "metadata": {},
     "output_type": "execute_result"
    }
   ],
   "source": [
    "is_truncable_prime(3797)"
   ]
  },
  {
   "cell_type": "code",
   "execution_count": 80,
   "metadata": {},
   "outputs": [],
   "source": [
    "arr = np.arange(10,10000000)"
   ]
  },
  {
   "cell_type": "code",
   "execution_count": 81,
   "metadata": {},
   "outputs": [],
   "source": [
    "arr_new = np.array(list(filter(is_truncable_prime,arr)))"
   ]
  },
  {
   "cell_type": "code",
   "execution_count": 82,
   "metadata": {},
   "outputs": [
    {
     "data": {
      "text/plain": [
       "array([    23,     29,     31,     37,     53,     59,     71,     73,\n",
       "           79,    311,    313,    317,    373,    379,    719,    797,\n",
       "         3137,   3797,   7331,  73331, 739397])"
      ]
     },
     "execution_count": 82,
     "metadata": {},
     "output_type": "execute_result"
    }
   ],
   "source": [
    "arr_new"
   ]
  },
  {
   "cell_type": "code",
   "execution_count": null,
   "metadata": {},
   "outputs": [],
   "source": []
  }
 ],
 "metadata": {
  "kernelspec": {
   "display_name": "Python 3",
   "language": "python",
   "name": "python3"
  },
  "language_info": {
   "codemirror_mode": {
    "name": "ipython",
    "version": 3
   },
   "file_extension": ".py",
   "mimetype": "text/x-python",
   "name": "python",
   "nbconvert_exporter": "python",
   "pygments_lexer": "ipython3",
   "version": "3.8.5"
  }
 },
 "nbformat": 4,
 "nbformat_minor": 4
}
