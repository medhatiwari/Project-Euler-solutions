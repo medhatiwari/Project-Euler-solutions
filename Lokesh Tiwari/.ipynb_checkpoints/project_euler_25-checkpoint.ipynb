{
 "cells": [
  {
   "cell_type": "code",
   "execution_count": 10,
   "metadata": {},
   "outputs": [
    {
     "name": "stdout",
     "output_type": "stream",
     "text": [
      "4782\n",
      "0.043973684310913086\n"
     ]
    }
   ],
   "source": [
    "import time\n",
    "start = time.time()\n",
    "n=1\n",
    "i=1\n",
    "h = 2\n",
    "while True:\n",
    "    z = n + i\n",
    "    i = n\n",
    "    n = z\n",
    "    h += 1\n",
    "    if len(str(n))==1000:\n",
    "        print(h)\n",
    "        break\n",
    "end = time.time()\n",
    "print(end-start)"
   ]
  },
  {
   "cell_type": "code",
   "execution_count": null,
   "metadata": {},
   "outputs": [],
   "source": []
  }
 ],
 "metadata": {
  "kernelspec": {
   "display_name": "Python 3",
   "language": "python",
   "name": "python3"
  },
  "language_info": {
   "codemirror_mode": {
    "name": "ipython",
    "version": 3
   },
   "file_extension": ".py",
   "mimetype": "text/x-python",
   "name": "python",
   "nbconvert_exporter": "python",
   "pygments_lexer": "ipython3",
   "version": "3.8.5"
  }
 },
 "nbformat": 4,
 "nbformat_minor": 4
}
