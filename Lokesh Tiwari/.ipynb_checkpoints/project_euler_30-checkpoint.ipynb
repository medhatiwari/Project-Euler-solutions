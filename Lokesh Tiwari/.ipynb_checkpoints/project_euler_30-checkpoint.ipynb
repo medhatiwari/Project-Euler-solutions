{
 "cells": [
  {
   "cell_type": "code",
   "execution_count": 17,
   "metadata": {},
   "outputs": [
    {
     "name": "stdout",
     "output_type": "stream",
     "text": [
      "4150\n",
      "4150\n",
      "4151\n",
      "4151\n",
      "54748\n",
      "54748\n",
      "92727\n",
      "92727\n",
      "93084\n",
      "93084\n",
      "194979\n",
      "194979\n",
      "443839\n",
      "6\n"
     ]
    }
   ],
   "source": [
    "i = 10\n",
    "j = 0\n",
    "counter = 0\n",
    "while i <= 999999:\n",
    "    i = str(i)\n",
    "    if len(i)==6:\n",
    "        s = (int(i[0])**5)+(int(i[1])**5)+(int(i[2])**5)+(int(i[3])**5)+(int(i[4])**5)+(int(i[5])**5)\n",
    "    if len(i)==5:\n",
    "        s = (int(i[0])**5)+(int(i[1])**5)+(int(i[2])**5)+(int(i[3])**5)+(int(i[4])**5)\n",
    "    if len(i)==4:\n",
    "        s = (int(i[0])**5)+(int(i[1])**5)+(int(i[2])**5)+(int(i[3])**5)\n",
    "    if len(i)==3:\n",
    "        s = (int(i[0])**5)+(int(i[1])**5)+(int(i[2])**5)\n",
    "    if len(i)==2:\n",
    "        s = (int(i[0])**5)+(int(i[1])**5)\n",
    "    if len(i)==1:\n",
    "        s = int(i[0])**5\n",
    "    i = int(i)    \n",
    "    if i==s:\n",
    "        j+=s\n",
    "        counter+=1\n",
    "        print(i)\n",
    "        print(s)\n",
    "    i+=1\n",
    "print(j)\n",
    "print(counter)"
   ]
  },
  {
   "cell_type": "code",
   "execution_count": null,
   "metadata": {},
   "outputs": [],
   "source": []
  }
 ],
 "metadata": {
  "kernelspec": {
   "display_name": "Python 3",
   "language": "python",
   "name": "python3"
  },
  "language_info": {
   "codemirror_mode": {
    "name": "ipython",
    "version": 3
   },
   "file_extension": ".py",
   "mimetype": "text/x-python",
   "name": "python",
   "nbconvert_exporter": "python",
   "pygments_lexer": "ipython3",
   "version": "3.8.5"
  }
 },
 "nbformat": 4,
 "nbformat_minor": 4
}
