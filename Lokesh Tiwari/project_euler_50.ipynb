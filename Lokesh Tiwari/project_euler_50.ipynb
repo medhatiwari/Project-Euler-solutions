{
 "cells": [
  {
   "cell_type": "code",
   "execution_count": 1,
   "metadata": {},
   "outputs": [
    {
     "name": "stdout",
     "output_type": "stream",
     "text": [
      "Requirement already satisfied: numba in c:\\users\\user\\anaconda3\\lib\\site-packages (0.51.2)\n",
      "Requirement already satisfied: llvmlite<0.35,>=0.34.0.dev0 in c:\\users\\user\\anaconda3\\lib\\site-packages (from numba) (0.34.0)\n",
      "Requirement already satisfied: numpy>=1.15 in c:\\users\\user\\anaconda3\\lib\\site-packages (from numba) (1.19.2)\n",
      "Requirement already satisfied: setuptools in c:\\users\\user\\anaconda3\\lib\\site-packages (from numba) (50.3.1.post20201107)\n"
     ]
    }
   ],
   "source": [
    "!pip install numba"
   ]
  },
  {
   "cell_type": "code",
   "execution_count": 12,
   "metadata": {},
   "outputs": [],
   "source": [
    "from numba import jit\n",
    "import time\n",
    "import math as m\n",
    "@jit(nopython=True)\n",
    "def tellprime(z):\n",
    "    if z==2:\n",
    "        return True\n",
    "    elif z==3:\n",
    "        return True\n",
    "    else:\n",
    "        i = 2\n",
    "        l = m.sqrt(z)\n",
    "        u = True \n",
    "        while i<=l and u:\n",
    "            if z%i==0:\n",
    "                return False\n",
    "                break\n",
    "            elif i+1>l and z%i != 0:\n",
    "                return True\n",
    "                break\n",
    "            else:\n",
    "                i+=1\n",
    "            u = (i%6 in [1,5]) or (i in [2,3])\n",
    "            while u == False:\n",
    "                i+=1\n",
    "                if z%i==0:\n",
    "                    return False\n",
    "                    break\n",
    "                elif i+1>l and z%i != 0:\n",
    "                    return True\n",
    "                    break\n",
    "                u = i%6 in [1,5]\n",
    "i = 2\n",
    "h = []\n",
    "while i < 10000:\n",
    "    if tellprime(i):\n",
    "        h.append(i)\n",
    "    i+=1\n"
   ]
  },
  {
   "cell_type": "code",
   "execution_count": 13,
   "metadata": {
    "scrolled": true
   },
   "outputs": [],
   "source": [
    "i = len(h)\n",
    "g = []\n",
    "while i>0:\n",
    "    k = 0\n",
    "    j = 0\n",
    "    while j <= (len(h)-i):\n",
    "        sum_ = 0\n",
    "        for y in range(j,i+j):\n",
    "            sum_ += h[y]\n",
    "        if sum_ < 1000000:\n",
    "            if tellprime(sum_):\n",
    "                k = 1\n",
    "                g.append(sum_)\n",
    "                break\n",
    "        j+=1\n",
    "    if k == 1:\n",
    "        break\n",
    "    i -= 1\n",
    "    \n",
    "    "
   ]
  },
  {
   "cell_type": "code",
   "execution_count": 14,
   "metadata": {
    "scrolled": true
   },
   "outputs": [
    {
     "name": "stdout",
     "output_type": "stream",
     "text": [
      "[997651]\n"
     ]
    }
   ],
   "source": [
    "print(g)"
   ]
  },
  {
   "cell_type": "code",
   "execution_count": null,
   "metadata": {},
   "outputs": [],
   "source": []
  }
 ],
 "metadata": {
  "kernelspec": {
   "display_name": "Python 3",
   "language": "python",
   "name": "python3"
  },
  "language_info": {
   "codemirror_mode": {
    "name": "ipython",
    "version": 3
   },
   "file_extension": ".py",
   "mimetype": "text/x-python",
   "name": "python",
   "nbconvert_exporter": "python",
   "pygments_lexer": "ipython3",
   "version": "3.8.5"
  }
 },
 "nbformat": 4,
 "nbformat_minor": 4
}
