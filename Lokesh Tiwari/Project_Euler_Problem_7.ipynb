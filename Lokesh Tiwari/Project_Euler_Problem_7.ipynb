{
 "cells": [
  {
   "cell_type": "code",
   "execution_count": 3,
   "metadata": {},
   "outputs": [
    {
     "name": "stdout",
     "output_type": "stream",
     "text": [
      "Populating the interactive namespace from numpy and matplotlib\n"
     ]
    }
   ],
   "source": [
    "%pylab inline"
   ]
  },
  {
   "cell_type": "code",
   "execution_count": 4,
   "metadata": {},
   "outputs": [],
   "source": [
    "from numba import njit\n",
    "import math as m "
   ]
  },
  {
   "cell_type": "markdown",
   "metadata": {},
   "source": [
    "## The following code if of a function which returns nth prime when given n a parameter"
   ]
  },
  {
   "cell_type": "code",
   "execution_count": 8,
   "metadata": {
    "scrolled": false
   },
   "outputs": [
    {
     "name": "stdout",
     "output_type": "stream",
     "text": [
      "Wall time: 453 ms\n"
     ]
    },
    {
     "data": {
      "text/plain": [
       "True"
      ]
     },
     "execution_count": 8,
     "metadata": {},
     "output_type": "execute_result"
    }
   ],
   "source": [
    "@njit\n",
    "def tellprime(z):\n",
    "    if z == 1:\n",
    "        return False\n",
    "    elif z in [2,3]:\n",
    "        return True\n",
    "    elif z%2==0:\n",
    "        return False\n",
    "    elif z%3==0:\n",
    "        return False\n",
    "    else:\n",
    "        for i in range(4, int(z**(.5))+1):\n",
    "            if i%6 in [1,5]:\n",
    "                if z%i==0:\n",
    "                    return False\n",
    "        return True\n",
    "\n",
    "                \n",
    "%time tellprime(23)  "
   ]
  },
  {
   "cell_type": "code",
   "execution_count": 9,
   "metadata": {},
   "outputs": [],
   "source": [
    "def nth_prime(n):\n",
    "    if n==1:\n",
    "        return 2\n",
    "    elif n==2:\n",
    "        return 3\n",
    "    else:\n",
    "        j = 2\n",
    "        i = 5\n",
    "        while True:\n",
    "            if i%6 in [1,5]:\n",
    "                if tellprime(i):\n",
    "                    j+=1\n",
    "                    if j == n:\n",
    "                        return i\n",
    "            i += 1"
   ]
  },
  {
   "cell_type": "code",
   "execution_count": 10,
   "metadata": {},
   "outputs": [
    {
     "name": "stdout",
     "output_type": "stream",
     "text": [
      "Wall time: 46.9 ms\n"
     ]
    },
    {
     "data": {
      "text/plain": [
       "104743"
      ]
     },
     "execution_count": 10,
     "metadata": {},
     "output_type": "execute_result"
    }
   ],
   "source": [
    "%time nth_prime(10001)"
   ]
  },
  {
   "cell_type": "code",
   "execution_count": null,
   "metadata": {},
   "outputs": [],
   "source": []
  },
  {
   "cell_type": "code",
   "execution_count": null,
   "metadata": {},
   "outputs": [],
   "source": []
  }
 ],
 "metadata": {
  "kernelspec": {
   "display_name": "Python 3",
   "language": "python",
   "name": "python3"
  },
  "language_info": {
   "codemirror_mode": {
    "name": "ipython",
    "version": 3
   },
   "file_extension": ".py",
   "mimetype": "text/x-python",
   "name": "python",
   "nbconvert_exporter": "python",
   "pygments_lexer": "ipython3",
   "version": "3.8.5"
  }
 },
 "nbformat": 4,
 "nbformat_minor": 4
}
