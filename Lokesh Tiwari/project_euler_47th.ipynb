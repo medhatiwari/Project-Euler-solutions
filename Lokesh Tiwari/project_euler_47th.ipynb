{
 "cells": [
  {
   "cell_type": "code",
   "execution_count": 1,
   "metadata": {},
   "outputs": [
    {
     "name": "stdout",
     "output_type": "stream",
     "text": [
      "Requirement already satisfied: numba in c:\\users\\user\\anaconda3\\lib\\site-packages (0.51.2)\n",
      "Requirement already satisfied: llvmlite<0.35,>=0.34.0.dev0 in c:\\users\\user\\anaconda3\\lib\\site-packages (from numba) (0.34.0)\n",
      "Requirement already satisfied: numpy>=1.15 in c:\\users\\user\\anaconda3\\lib\\site-packages (from numba) (1.19.2)\n",
      "Requirement already satisfied: setuptools in c:\\users\\user\\anaconda3\\lib\\site-packages (from numba) (50.3.1.post20201107)\n"
     ]
    }
   ],
   "source": [
    "!pip install numba"
   ]
  },
  {
   "cell_type": "code",
   "execution_count": 10,
   "metadata": {
    "scrolled": true
   },
   "outputs": [
    {
     "name": "stdout",
     "output_type": "stream",
     "text": [
      "the first 4 consecutive integers to have 4 distinct prime factors each are = 134043 134044 134045 134046\n",
      "time taken = 0.8048698902130127\n"
     ]
    }
   ],
   "source": [
    "from numba import jit\n",
    "import time\n",
    "import math as m\n",
    "#crutial code starts\n",
    "@jit(nopython=True)\n",
    "def tellprime(z):\n",
    "    if z==2:\n",
    "        return True\n",
    "    elif z==3:\n",
    "        return True\n",
    "    else:\n",
    "        i = 2\n",
    "        l = m.sqrt(z)\n",
    "        u = True \n",
    "        while i<=l and u:\n",
    "            if z%i==0:\n",
    "                return False\n",
    "                break\n",
    "            elif i+1>l and z%i != 0:\n",
    "                return True\n",
    "                break\n",
    "            else:\n",
    "                i+=1\n",
    "            u = (i%6 in [1,5]) or (i in [2,3])\n",
    "            while u == False:\n",
    "                i+=1\n",
    "                if z%i==0:\n",
    "                    return False\n",
    "                    break\n",
    "                elif i+1>l and z%i != 0:\n",
    "                    return True\n",
    "                    break\n",
    "                u = i%6 in [1,5]\n",
    "tellprime(71)\n",
    "g = []\n",
    "def prime_factorisation(n):\n",
    "    if tellprime(n) or n==1:\n",
    "        g.append(n)\n",
    "    else:\n",
    "        if n%2==0:\n",
    "            g.append(2)\n",
    "            n = int(n/2)\n",
    "            prime_factorisation(n)\n",
    "            return\n",
    "        if n%3==0:\n",
    "            g.append(3)\n",
    "            n = int(n/3)\n",
    "            prime_factorisation(n)\n",
    "            return\n",
    "        i = 1\n",
    "        h = int(int(n/6)/2)+2\n",
    "        while i<=h:\n",
    "            if n%(6*i-1)==0:\n",
    "                g.append((6*i-1))\n",
    "                n = int(n/(6*i-1))\n",
    "                prime_factorisation(n)\n",
    "                return\n",
    "                break\n",
    "            if n%(6*i+1)==0:\n",
    "                g.append((6*i+1))\n",
    "                n = int(n/(6*i+1))\n",
    "                prime_factorisation(n)\n",
    "                return\n",
    "                break\n",
    "            i+=1\n",
    "#crutial code ends\n",
    "n = 4\n",
    "i = 2\n",
    "h = ['a','b','c']\n",
    "ans = ''\n",
    "start = time.time()\n",
    "while True:\n",
    "    g = []\n",
    "    prime_factorisation(i)\n",
    "    h.append(len(set(g)))\n",
    "    if h[-1]==h[-2]==h[-3]==h[-4]==n:\n",
    "        ans = str(i-3)+' '+str(i-2)+\" \"+str(i-1)+' '+str(i)\n",
    "        break\n",
    "    i+=1\n",
    "end = time.time()\n",
    "print(\"the first \" + str(n) + \" consecutive integers to have \" + str(n) + \" distinct prime factors each are = \" + ans)\n",
    "print('time taken = ' + str(end-start))"
   ]
  },
  {
   "cell_type": "code",
   "execution_count": null,
   "metadata": {},
   "outputs": [],
   "source": []
  }
 ],
 "metadata": {
  "kernelspec": {
   "display_name": "Python 3",
   "language": "python",
   "name": "python3"
  },
  "language_info": {
   "codemirror_mode": {
    "name": "ipython",
    "version": 3
   },
   "file_extension": ".py",
   "mimetype": "text/x-python",
   "name": "python",
   "nbconvert_exporter": "python",
   "pygments_lexer": "ipython3",
   "version": "3.8.5"
  }
 },
 "nbformat": 4,
 "nbformat_minor": 4
}
