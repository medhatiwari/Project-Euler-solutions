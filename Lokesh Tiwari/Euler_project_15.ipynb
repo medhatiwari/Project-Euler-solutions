{
 "cells": [
  {
   "cell_type": "code",
   "execution_count": 60,
   "metadata": {},
   "outputs": [],
   "source": [
    "er = [[0,0]]\n",
    "yyu = []"
   ]
  },
  {
   "cell_type": "code",
   "execution_count": 64,
   "metadata": {
    "scrolled": true
   },
   "outputs": [
    {
     "name": "stdout",
     "output_type": "stream",
     "text": [
      "er =  [[2, 1], [2, 0], [1, 2], [2, 0], [1, 1], [1, 0]]\n",
      "er =  [[2, 2], [2, 1], [2, 1], [2, 1], [2, 1], [1, 2], [2, 1], [1, 1]]\n"
     ]
    }
   ],
   "source": [
    "print(\"er = \", er)\n",
    "for n in range(0,len(er)):\n",
    "    if er[n][0]<2:\n",
    "        yyu += [[er[n][0]+1,er[0][1]]]\n",
    "    if er[n][1]<2:\n",
    "        yyu += [[er[n][0],er[n][1]+1]]\n",
    "    if er[n][0]==2 and er[n][1]==2:\n",
    "        yyu += [er[n]]\n",
    "er = yyu\n",
    "yyu = []\n",
    "print(\"er = \", er)"
   ]
  },
  {
   "cell_type": "code",
   "execution_count": null,
   "metadata": {},
   "outputs": [],
   "source": []
  },
  {
   "cell_type": "code",
   "execution_count": null,
   "metadata": {},
   "outputs": [],
   "source": []
  },
  {
   "cell_type": "code",
   "execution_count": null,
   "metadata": {},
   "outputs": [],
   "source": []
  },
  {
   "cell_type": "code",
   "execution_count": null,
   "metadata": {},
   "outputs": [],
   "source": []
  }
 ],
 "metadata": {
  "kernelspec": {
   "display_name": "Python 3",
   "language": "python",
   "name": "python3"
  },
  "language_info": {
   "codemirror_mode": {
    "name": "ipython",
    "version": 3
   },
   "file_extension": ".py",
   "mimetype": "text/x-python",
   "name": "python",
   "nbconvert_exporter": "python",
   "pygments_lexer": "ipython3",
   "version": "3.8.5"
  }
 },
 "nbformat": 4,
 "nbformat_minor": 4
}
