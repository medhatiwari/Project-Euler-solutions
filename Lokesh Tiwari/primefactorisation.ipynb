{
 "cells": [
  {
   "cell_type": "code",
   "execution_count": 1,
   "metadata": {},
   "outputs": [
    {
     "name": "stdout",
     "output_type": "stream",
     "text": [
      "Populating the interactive namespace from numpy and matplotlib\n"
     ]
    }
   ],
   "source": [
    "%pylab inline"
   ]
  },
  {
   "cell_type": "code",
   "execution_count": 2,
   "metadata": {},
   "outputs": [],
   "source": [
    "from numba import jit\n",
    "import time\n",
    "import math as m"
   ]
  },
  {
   "cell_type": "code",
   "execution_count": 3,
   "metadata": {},
   "outputs": [
    {
     "data": {
      "text/plain": [
       "True"
      ]
     },
     "execution_count": 3,
     "metadata": {},
     "output_type": "execute_result"
    }
   ],
   "source": [
    "@jit(nopython=True)\n",
    "def tellprime(z):\n",
    "    if z == 1:\n",
    "        return False\n",
    "    elif z in [2,3]:\n",
    "        return True\n",
    "    elif z%2==0:\n",
    "        return False\n",
    "    elif z%3==0:\n",
    "        return False\n",
    "    else:\n",
    "        for i in range(4, int(z**(.5))+1):\n",
    "            if i%6 in [1,5]:\n",
    "                if z%i==0:\n",
    "                    return False\n",
    "        return True\n",
    "\n",
    "tellprime(71)\n",
    "\n"
   ]
  },
  {
   "cell_type": "markdown",
   "metadata": {},
   "source": [
    "#### Code For Prime Factors"
   ]
  },
  {
   "cell_type": "code",
   "execution_count": 4,
   "metadata": {},
   "outputs": [
    {
     "name": "stdout",
     "output_type": "stream",
     "text": [
      "Wall time: 0 ns\n",
      "[71, 839, 1471, 6857]\n"
     ]
    }
   ],
   "source": [
    "g = []\n",
    "\n",
    "def prime_factors(n):\n",
    "    if tellprime(n):\n",
    "        g.append(n)\n",
    "    else:\n",
    "        if n%2==0:\n",
    "            g.append(2)\n",
    "            n = int(n/2)\n",
    "            prime_factors(n)\n",
    "            return\n",
    "        if n%3==0:\n",
    "            g.append(3)\n",
    "            n = int(n/3)\n",
    "            prime_factors(n)\n",
    "            return\n",
    "        i = 1\n",
    "        h = int(int(n/6)/2)+2\n",
    "        while i<=h:\n",
    "            if n%(6*i-1)==0:\n",
    "                g.append((6*i-1))\n",
    "                n = int(n/(6*i-1))\n",
    "                prime_factors(n)\n",
    "                return\n",
    "                break\n",
    "            if n%(6*i+1)==0:\n",
    "                g.append((6*i+1))\n",
    "                n = int(n/(6*i+1))\n",
    "                prime_factors(n)\n",
    "                return\n",
    "                break\n",
    "            i+=1   \n",
    "\n",
    "\n",
    "%time prime_factors(600851475143)\n",
    "print(g)"
   ]
  },
  {
   "cell_type": "markdown",
   "metadata": {},
   "source": [
    "#### Prime Facrorisation"
   ]
  },
  {
   "cell_type": "code",
   "execution_count": 5,
   "metadata": {},
   "outputs": [],
   "source": [
    "all_prime_factors = np.array([], dtype='int64')"
   ]
  },
  {
   "cell_type": "code",
   "execution_count": 18,
   "metadata": {},
   "outputs": [],
   "source": [
    "def primefactorisation(num):\n",
    "    global all_prime_factors\n",
    "    all_prime_factors = np.array([], dtype='int64')\n",
    "    def doit(number):\n",
    "        global all_prime_factors\n",
    "        for i in range(2, number+1):\n",
    "            if number%i==0:\n",
    "                all_prime_factors = np.append(all_prime_factors, [i])\n",
    "                doit(int(number/i))\n",
    "                break\n",
    "        return all_prime_factors\n",
    "    all_prime_factors = doit(num)\n",
    "    return all_prime_factors"
   ]
  },
  {
   "cell_type": "code",
   "execution_count": 67,
   "metadata": {},
   "outputs": [
    {
     "name": "stdout",
     "output_type": "stream",
     "text": [
      "Wall time: 3.66 s\n"
     ]
    },
    {
     "data": {
      "text/plain": [
       "array([       2,        2,        2,        2,        2,      157,\n",
       "            293, 40817827], dtype=int64)"
      ]
     },
     "execution_count": 67,
     "metadata": {},
     "output_type": "execute_result"
    }
   ],
   "source": [
    "%time primefactorisation(60085147514464)"
   ]
  },
  {
   "cell_type": "code",
   "execution_count": null,
   "metadata": {},
   "outputs": [],
   "source": []
  },
  {
   "cell_type": "code",
   "execution_count": null,
   "metadata": {},
   "outputs": [],
   "source": []
  }
 ],
 "metadata": {
  "kernelspec": {
   "display_name": "Python 3",
   "language": "python",
   "name": "python3"
  },
  "language_info": {
   "codemirror_mode": {
    "name": "ipython",
    "version": 3
   },
   "file_extension": ".py",
   "mimetype": "text/x-python",
   "name": "python",
   "nbconvert_exporter": "python",
   "pygments_lexer": "ipython3",
   "version": "3.8.5"
  }
 },
 "nbformat": 4,
 "nbformat_minor": 4
}
