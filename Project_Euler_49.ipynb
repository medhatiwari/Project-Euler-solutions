{
 "cells": [
  {
   "cell_type": "code",
   "execution_count": 45,
   "metadata": {},
   "outputs": [
    {
     "data": {
      "text/plain": [
       "True"
      ]
     },
     "execution_count": 45,
     "metadata": {},
     "output_type": "execute_result"
    }
   ],
   "source": [
    "import numpy as np\n",
    "from numba import njit\n",
    "import math as m \n",
    "import time\n",
    "start = time.time()\n",
    "@njit\n",
    "def tellprime(z):\n",
    "    if z==2:\n",
    "        return True\n",
    "    elif z==3:\n",
    "        return True\n",
    "    else:\n",
    "        i = 2\n",
    "        l = m.sqrt(z)\n",
    "        u = True \n",
    "        while i<=l and u:\n",
    "            if z%i==0:\n",
    "                return False\n",
    "                break\n",
    "            elif i+1>l and z%i != 0:\n",
    "                return True\n",
    "                break\n",
    "            else:\n",
    "                i+=1\n",
    "            u = (i%6 in [1,5]) or (i in [2,3])\n",
    "            while u == False:\n",
    "                i+=1\n",
    "                if z%i==0:\n",
    "                    return False\n",
    "                    break\n",
    "                elif i+1>l and z%i != 0:\n",
    "                    return True\n",
    "                    break\n",
    "                u = i%6 in [1,5]  "
   ]
  },
  {
   "cell_type": "code",
   "execution_count": 46,
   "metadata": {},
   "outputs": [
    {
     "data": {
      "text/plain": [
       "True"
      ]
     },
     "execution_count": 46,
     "metadata": {},
     "output_type": "execute_result"
    }
   ],
   "source": [
    "tellprime(1009)"
   ]
  },
  {
   "cell_type": "code",
   "execution_count": 47,
   "metadata": {},
   "outputs": [],
   "source": [
    "arr_of_primes = {2,3}"
   ]
  },
  {
   "cell_type": "code",
   "execution_count": 48,
   "metadata": {},
   "outputs": [],
   "source": [
    "def give(n):\n",
    "    global arr_of_primes\n",
    "    arr_of_primes = {2,3}\n",
    "    i = 1\n",
    "    z = int(n/6)\n",
    "    if tellprime(6*z-1):\n",
    "        arr_of_primes.add(6*z-1)\n",
    "    if tellprime(6*z+1) and (6*z+1)<n:\n",
    "        arr_of_primes.add(6*z+1)\n",
    "    while i < z:\n",
    "        if tellprime(6*i-1):\n",
    "            arr_of_primes.add(6*i-1)\n",
    "        if tellprime(6*i+1):\n",
    "            arr_of_primes.add(6*i+1)\n",
    "        i += 1\n",
    "    return arr_of_primes"
   ]
  },
  {
   "cell_type": "code",
   "execution_count": 49,
   "metadata": {},
   "outputs": [],
   "source": [
    "def comapare(first,second):\n",
    "    if len(first)==len(second):\n",
    "        trash = second.copy()\n",
    "        for i in first:\n",
    "            if i not in trash:\n",
    "                return False\n",
    "            else:\n",
    "                trash.remove(i)\n",
    "        del trash\n",
    "        return True\n",
    "    else:\n",
    "        return False"
   ]
  },
  {
   "cell_type": "code",
   "execution_count": 53,
   "metadata": {},
   "outputs": [],
   "source": [
    "s1 = give(1000)"
   ]
  },
  {
   "cell_type": "code",
   "execution_count": 55,
   "metadata": {},
   "outputs": [],
   "source": [
    "s2 = give(10000)"
   ]
  },
  {
   "cell_type": "code",
   "execution_count": 56,
   "metadata": {
    "scrolled": true
   },
   "outputs": [],
   "source": [
    "working_list = list(s2.difference(s1))\n",
    "working_list.sort()"
   ]
  },
  {
   "cell_type": "code",
   "execution_count": 58,
   "metadata": {},
   "outputs": [],
   "source": [
    "def split(g):\n",
    "    l1 = []\n",
    "    for i in range(0,len(g)):\n",
    "        l1 += g[i]\n",
    "    return l1"
   ]
  },
  {
   "cell_type": "code",
   "execution_count": 59,
   "metadata": {},
   "outputs": [],
   "source": [
    "#preProcessing_Of_Working_List"
   ]
  },
  {
   "cell_type": "code",
   "execution_count": 60,
   "metadata": {},
   "outputs": [],
   "source": [
    "working_arr = np.array(working_list)\n",
    "working_arr = np.array(list(map(lambda x:str(x),working_arr)))"
   ]
  },
  {
   "cell_type": "code",
   "execution_count": 62,
   "metadata": {},
   "outputs": [],
   "source": [
    "working_list = list(map(split,working_arr))"
   ]
  },
  {
   "cell_type": "code",
   "execution_count": 65,
   "metadata": {},
   "outputs": [],
   "source": [
    "seperator = ''"
   ]
  },
  {
   "cell_type": "code",
   "execution_count": 66,
   "metadata": {},
   "outputs": [],
   "source": [
    "empty = []"
   ]
  },
  {
   "cell_type": "code",
   "execution_count": 67,
   "metadata": {},
   "outputs": [],
   "source": [
    "ohh = len(working_list)\n",
    "i = 0\n",
    "while i < ohh:\n",
    "    hj1 = working_list[i]\n",
    "    uff = len(working_list)\n",
    "    j = i+1\n",
    "    while j < uff:\n",
    "        hj2 = working_list[j]\n",
    "        if comapare(hj1,hj2):\n",
    "            ty1 = int(seperator.join(hj1))\n",
    "            ty2 = int(seperator.join(hj2))\n",
    "            empty += [[ty1,ty2,abs(ty2-ty1)]]\n",
    "        j+=1\n",
    "    i+=1"
   ]
  },
  {
   "cell_type": "code",
   "execution_count": 68,
   "metadata": {},
   "outputs": [],
   "source": [
    "now_not_empty = np.array(empty)"
   ]
  },
  {
   "cell_type": "code",
   "execution_count": 71,
   "metadata": {},
   "outputs": [],
   "source": [
    "difference_list = list(now_not_empty[:,2])"
   ]
  },
  {
   "cell_type": "code",
   "execution_count": 72,
   "metadata": {},
   "outputs": [],
   "source": [
    "unique_elements_in_difference = list(set(difference_list))"
   ]
  },
  {
   "cell_type": "code",
   "execution_count": 73,
   "metadata": {},
   "outputs": [],
   "source": [
    "unique_elements_in_difference.sort()"
   ]
  },
  {
   "cell_type": "code",
   "execution_count": 75,
   "metadata": {},
   "outputs": [],
   "source": [
    "unique_elements_in_difference_with_frequency_above_1 = []"
   ]
  },
  {
   "cell_type": "code",
   "execution_count": 76,
   "metadata": {},
   "outputs": [],
   "source": [
    "for i in unique_elements_in_difference:\n",
    "    if difference_list.count(i)>=2:\n",
    "        unique_elements_in_difference_with_frequency_above_1.append(i)"
   ]
  },
  {
   "cell_type": "code",
   "execution_count": 80,
   "metadata": {},
   "outputs": [
    {
     "name": "stdout",
     "output_type": "stream",
     "text": [
      "[1487 4817 3330] [4817 8147 3330]\n",
      "[2969 6299 3330] [6299 9629 3330]\n"
     ]
    }
   ],
   "source": [
    "for i in range(0,1842):\n",
    "    if now_not_empty[:,2][i] in unique_elements_in_difference_with_frequency_above_1:\n",
    "        tyu = now_not_empty[:,2][i]\n",
    "        for j in range(i+1,1842):\n",
    "            if tyu == now_not_empty[:,2][j]:\n",
    "                if now_not_empty[i,1]==now_not_empty[j,0] or now_not_empty[i,0]==now_not_empty[j,1]:\n",
    "                    print(now_not_empty[i,:],now_not_empty[j,:])"
   ]
  },
  {
   "cell_type": "code",
   "execution_count": 81,
   "metadata": {},
   "outputs": [
    {
     "data": {
      "text/plain": [
       "True"
      ]
     },
     "execution_count": 81,
     "metadata": {},
     "output_type": "execute_result"
    }
   ],
   "source": [
    "tellprime(2969)"
   ]
  },
  {
   "cell_type": "code",
   "execution_count": 82,
   "metadata": {},
   "outputs": [
    {
     "data": {
      "text/plain": [
       "True"
      ]
     },
     "execution_count": 82,
     "metadata": {},
     "output_type": "execute_result"
    }
   ],
   "source": [
    "tellprime(6299)"
   ]
  },
  {
   "cell_type": "code",
   "execution_count": 83,
   "metadata": {},
   "outputs": [
    {
     "data": {
      "text/plain": [
       "True"
      ]
     },
     "execution_count": 83,
     "metadata": {},
     "output_type": "execute_result"
    }
   ],
   "source": [
    "tellprime(9629)"
   ]
  },
  {
   "cell_type": "code",
   "execution_count": null,
   "metadata": {},
   "outputs": [],
   "source": []
  }
 ],
 "metadata": {
  "kernelspec": {
   "display_name": "Python 3",
   "language": "python",
   "name": "python3"
  },
  "language_info": {
   "codemirror_mode": {
    "name": "ipython",
    "version": 3
   },
   "file_extension": ".py",
   "mimetype": "text/x-python",
   "name": "python",
   "nbconvert_exporter": "python",
   "pygments_lexer": "ipython3",
   "version": "3.8.5"
  }
 },
 "nbformat": 4,
 "nbformat_minor": 4
}
