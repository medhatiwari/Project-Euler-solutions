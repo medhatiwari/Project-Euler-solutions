{
 "cells": [
  {
   "cell_type": "code",
   "execution_count": 149,
   "metadata": {},
   "outputs": [
    {
     "data": {
      "text/plain": [
       "True"
      ]
     },
     "execution_count": 149,
     "metadata": {},
     "output_type": "execute_result"
    }
   ],
   "source": [
    "import numpy as np\n",
    "from numba import njit\n",
    "import math as m \n",
    "import time\n",
    "start = time.time()\n",
    "@njit\n",
    "def tellprime(z):\n",
    "    if z==2:\n",
    "        return True\n",
    "    elif z==3:\n",
    "        return True\n",
    "    else:\n",
    "        i = 2\n",
    "        l = m.sqrt(z)\n",
    "        u = True \n",
    "        while i<=l and u:\n",
    "            if z%i==0:\n",
    "                return False\n",
    "                break\n",
    "            elif i+1>l and z%i != 0:\n",
    "                return True\n",
    "                break\n",
    "            else:\n",
    "                i+=1\n",
    "            u = (i%6 in [1,5]) or (i in [2,3])\n",
    "            while u == False:\n",
    "                i+=1\n",
    "                if z%i==0:\n",
    "                    return False\n",
    "                    break\n",
    "                elif i+1>l and z%i != 0:\n",
    "                    return True\n",
    "                    break\n",
    "                u = i%6 in [1,5]              \n",
    "tellprime(23)   "
   ]
  },
  {
   "cell_type": "code",
   "execution_count": 150,
   "metadata": {},
   "outputs": [],
   "source": [
    "arr_of_primes = [2,3]\n",
    "def give(n):\n",
    "    global arr_of_primes\n",
    "    arr_of_primes = [2,3]\n",
    "    i = 1\n",
    "    z = int(n/6)+2\n",
    "    while i < z:\n",
    "        if tellprime(6*i-1):\n",
    "            arr_of_primes += [6*i-1]\n",
    "        if tellprime(6*i+1):\n",
    "            arr_of_primes += [6*i+1]\n",
    "        i += 1"
   ]
  },
  {
   "cell_type": "code",
   "execution_count": 151,
   "metadata": {},
   "outputs": [],
   "source": [
    "give(int(m.sqrt(50000000)))\n",
    "arr_of_prime = np.array(arr_of_primes)\n",
    "arr_of_sqaure_of_primes = np.array(list(map(lambda x:x**2,arr_of_prime)))"
   ]
  },
  {
   "cell_type": "code",
   "execution_count": 152,
   "metadata": {},
   "outputs": [],
   "source": [
    "give(int(np.cbrt(50000000)))\n",
    "arr_of_primes.pop()\n",
    "arr_of_prime = np.array(arr_of_primes)\n",
    "arr_of_cubes_of_primes = np.array(list(map(lambda x:x**3,arr_of_prime)))"
   ]
  },
  {
   "cell_type": "code",
   "execution_count": 153,
   "metadata": {},
   "outputs": [],
   "source": [
    "give(int(m.sqrt(m.sqrt(50000000))))\n",
    "arr_of_primes.pop()\n",
    "arr_of_prime = np.array(arr_of_primes)\n",
    "arr_of_4th_power_of_primes = np.array(list(map(lambda x:x**4,arr_of_prime)))"
   ]
  },
  {
   "cell_type": "code",
   "execution_count": 154,
   "metadata": {},
   "outputs": [],
   "source": [
    "list_of_such_numbers = {1}"
   ]
  },
  {
   "cell_type": "code",
   "execution_count": 155,
   "metadata": {},
   "outputs": [],
   "source": [
    "for q in arr_of_sqaure_of_primes:\n",
    "    for w in arr_of_cubes_of_primes:\n",
    "        r = q+w\n",
    "        if r < 50000000:\n",
    "            for e in arr_of_4th_power_of_primes:\n",
    "                h = r+e\n",
    "                if h < 50000000:\n",
    "                    list_of_such_numbers.add(h)"
   ]
  },
  {
   "cell_type": "code",
   "execution_count": 156,
   "metadata": {},
   "outputs": [
    {
     "data": {
      "text/plain": [
       "1097344"
      ]
     },
     "execution_count": 156,
     "metadata": {},
     "output_type": "execute_result"
    }
   ],
   "source": [
    "len(list_of_such_numbers)"
   ]
  },
  {
   "cell_type": "code",
   "execution_count": 157,
   "metadata": {},
   "outputs": [],
   "source": [
    "end = time.time()"
   ]
  },
  {
   "cell_type": "code",
   "execution_count": 158,
   "metadata": {},
   "outputs": [
    {
     "name": "stdout",
     "output_type": "stream",
     "text": [
      "1.9205899238586426\n"
     ]
    }
   ],
   "source": [
    "print(-start+end)"
   ]
  }
 ],
 "metadata": {
  "kernelspec": {
   "display_name": "Python 3",
   "language": "python",
   "name": "python3"
  },
  "language_info": {
   "codemirror_mode": {
    "name": "ipython",
    "version": 3
   },
   "file_extension": ".py",
   "mimetype": "text/x-python",
   "name": "python",
   "nbconvert_exporter": "python",
   "pygments_lexer": "ipython3",
   "version": "3.8.5"
  }
 },
 "nbformat": 4,
 "nbformat_minor": 4
}
