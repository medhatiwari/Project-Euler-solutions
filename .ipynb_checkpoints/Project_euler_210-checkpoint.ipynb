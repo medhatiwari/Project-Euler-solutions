{
 "cells": [
  {
   "cell_type": "code",
   "execution_count": 1,
   "metadata": {},
   "outputs": [],
   "source": [
    "from decimal import *\n",
    "import math as m\n",
    "import time"
   ]
  },
  {
   "cell_type": "code",
   "execution_count": 2,
   "metadata": {},
   "outputs": [],
   "source": [
    "import numpy as np\n",
    "from numba import jit"
   ]
  },
  {
   "cell_type": "code",
   "execution_count": 7,
   "metadata": {},
   "outputs": [],
   "source": [
    "integer = int"
   ]
  },
  {
   "cell_type": "code",
   "execution_count": 8,
   "metadata": {},
   "outputs": [],
   "source": [
    "@jit(nopython=True)\n",
    "def tell2(r,radius,radius_squared):\n",
    "    def uff(z):\n",
    "        y = int(z)\n",
    "        if z==y:\n",
    "            return 8*(y-1)\n",
    "        else:\n",
    "            return 8*y    \n",
    "    count  = 0\n",
    "    x = np.arange(integer(r/8)+1,integer(radius)+1)\n",
    "    count += 4*len(x)\n",
    "    x = radius_squared-(x**2)\n",
    "    x = np.array(list(map(np.sqrt,x)))\n",
    "    arr = np.array(list(map(uff,x)))\n",
    "    count += arr.sum()\n",
    "    return count"
   ]
  },
  {
   "cell_type": "code",
   "execution_count": 9,
   "metadata": {},
   "outputs": [],
   "source": [
    "def operate3(r):\n",
    "    count = integer(((r*r)*(3/2)))+integer(((integer(r/4)+1)**2)-3-integer(r/4))\n",
    "    radius = (r/8)*(2**0.5)\n",
    "    radius_squared = integer(((r*r)/32))\n",
    "    count += tell2(r,radius,radius_squared)\n",
    "    return count"
   ]
  },
  {
   "cell_type": "code",
   "execution_count": 10,
   "metadata": {
    "scrolled": true
   },
   "outputs": [
    {
     "name": "stdout",
     "output_type": "stream",
     "text": [
      "1597880\n",
      "4.313374042510986\n"
     ]
    }
   ],
   "source": [
    "start = time.time()\n",
    "print(operate3(1000))\n",
    "end = time.time()\n",
    "print(end-start)"
   ]
  },
  {
   "cell_type": "code",
   "execution_count": 11,
   "metadata": {},
   "outputs": [
    {
     "name": "stdout",
     "output_type": "stream",
     "text": [
      "159814790\n",
      "0.0009992122650146484\n"
     ]
    }
   ],
   "source": [
    "start = time.time()\n",
    "print(operate3(10000))\n",
    "end = time.time()\n",
    "print(end-start)"
   ]
  },
  {
   "cell_type": "code",
   "execution_count": 12,
   "metadata": {},
   "outputs": [
    {
     "name": "stdout",
     "output_type": "stream",
     "text": [
      "15981722482\n",
      "0.0010044574737548828\n"
     ]
    }
   ],
   "source": [
    "start = time.time()\n",
    "print(operate3(100000))\n",
    "end = time.time()\n",
    "print(end-start)"
   ]
  },
  {
   "cell_type": "code",
   "execution_count": 13,
   "metadata": {},
   "outputs": [
    {
     "name": "stdout",
     "output_type": "stream",
     "text": [
      "1598174519142\n",
      "0.007000446319580078\n"
     ]
    }
   ],
   "source": [
    "start = time.time()\n",
    "print(operate3(1000000))\n",
    "end = time.time()\n",
    "print(end-start)"
   ]
  },
  {
   "cell_type": "code",
   "execution_count": 14,
   "metadata": {},
   "outputs": [
    {
     "name": "stdout",
     "output_type": "stream",
     "text": [
      "159817474536486\n",
      "0.060964107513427734\n"
     ]
    }
   ],
   "source": [
    "start = time.time()\n",
    "print(operate3(10000000))\n",
    "end = time.time()\n",
    "print(end-start)"
   ]
  },
  {
   "cell_type": "code",
   "execution_count": 15,
   "metadata": {},
   "outputs": [
    {
     "name": "stdout",
     "output_type": "stream",
     "text": [
      "15981747679237090\n",
      "0.5805299282073975\n"
     ]
    }
   ],
   "source": [
    "start = time.time()\n",
    "print(operate3(100000000))\n",
    "end = time.time()\n",
    "print(end-start)"
   ]
  },
  {
   "cell_type": "code",
   "execution_count": 16,
   "metadata": {
    "scrolled": true
   },
   "outputs": [
    {
     "name": "stdout",
     "output_type": "stream",
     "text": [
      "1598174770174689458\n",
      "6.3060407638549805\n"
     ]
    }
   ],
   "source": [
    "start = time.time()\n",
    "print(operate3(1000000000))\n",
    "end = time.time()\n",
    "print(end-start)"
   ]
  },
  {
   "cell_type": "code",
   "execution_count": null,
   "metadata": {},
   "outputs": [],
   "source": []
  },
  {
   "cell_type": "code",
   "execution_count": 83,
   "metadata": {},
   "outputs": [],
   "source": [
    "# here is tell version 3 function\n",
    "# this version does not use numpy array and numba libraray and hence it is slower\n",
    "# it takes around 2.5 minutes for 10**9\n",
    "integer = int\n",
    "def tell3(r,radius,radius_squared):\n",
    "    count  = 0\n",
    "    for x in range(integer(r/8)+1,integer(radius)+1):\n",
    "        count += 4\n",
    "        k = radius_squared-(x**2)\n",
    "        z = k**0.5\n",
    "        y = integer(z)\n",
    "        if z==y:\n",
    "            count += 8*(y-1)\n",
    "        else:\n",
    "            count += 8*y\n",
    "        del y\n",
    "        del z\n",
    "        del k\n",
    "    return count"
   ]
  },
  {
   "cell_type": "code",
   "execution_count": null,
   "metadata": {},
   "outputs": [],
   "source": []
  }
 ],
 "metadata": {
  "kernelspec": {
   "display_name": "Python 3",
   "language": "python",
   "name": "python3"
  },
  "language_info": {
   "codemirror_mode": {
    "name": "ipython",
    "version": 3
   },
   "file_extension": ".py",
   "mimetype": "text/x-python",
   "name": "python",
   "nbconvert_exporter": "python",
   "pygments_lexer": "ipython3",
   "version": "3.8.5"
  }
 },
 "nbformat": 4,
 "nbformat_minor": 4
}
