{
 "cells": [
  {
   "cell_type": "code",
   "execution_count": 1,
   "metadata": {
    "scrolled": false
   },
   "outputs": [
    {
     "name": "stdout",
     "output_type": "stream",
     "text": [
      "Populating the interactive namespace from numpy and matplotlib\n"
     ]
    }
   ],
   "source": [
    "%pylab inline"
   ]
  },
  {
   "cell_type": "code",
   "execution_count": 5,
   "metadata": {},
   "outputs": [],
   "source": [
    "import time"
   ]
  },
  {
   "cell_type": "code",
   "execution_count": 8,
   "metadata": {},
   "outputs": [],
   "source": [
    "import matplotlib.pyplot as plt"
   ]
  },
  {
   "cell_type": "code",
   "execution_count": null,
   "metadata": {},
   "outputs": [],
   "source": [
    "import numpy as np"
   ]
  },
  {
   "cell_type": "code",
   "execution_count": 2,
   "metadata": {},
   "outputs": [],
   "source": [
    "from numba import njit"
   ]
  },
  {
   "cell_type": "code",
   "execution_count": null,
   "metadata": {},
   "outputs": [],
   "source": [
    "@njit\n",
    "def divisor_pair_sum(num):\n",
    "    for i in range(int(num**(0.5)), 0, -1):\n",
    "        if num%i == 0:\n",
    "            yield (i+int(num/i))\n",
    "\n",
    "@njit\n",
    "def is_stealthy1(num):\n",
    "    ans = 0\n",
    "    count = 0\n",
    "    for y in divisor_pair_sum(num):\n",
    "        if y-1 == ans:\n",
    "            count += 1\n",
    "        ans = y\n",
    "    return count\n",
    "\n",
    "@njit\n",
    "def is_stealthy2(num):\n",
    "    ans = 0\n",
    "    count = 0\n",
    "    for y in divisor_pair_sum(num):\n",
    "        if y-1 == ans:\n",
    "            return True\n",
    "        ans = y\n",
    "    return False\n",
    "\n",
    "\n",
    "@njit\n",
    "def produce_stealthy(num):\n",
    "    for n in range(4,num+1,2):\n",
    "        ans = 0\n",
    "        count = 0\n",
    "        for y in divisor_pair_sum(n):\n",
    "            if y-1 == ans:\n",
    "                count += 1\n",
    "            ans = y\n",
    "        if count > 0: \n",
    "            yield n, count\n",
    "            \n",
    "@njit\n",
    "def print_divisor_pair_sum(num):\n",
    "    for i in divisor_pair_sum(num):\n",
    "        print(i)"
   ]
  },
  {
   "cell_type": "code",
   "execution_count": null,
   "metadata": {
    "scrolled": false
   },
   "outputs": [],
   "source": [
    "%time is_stealthy1(256128016000000)"
   ]
  },
  {
   "cell_type": "code",
   "execution_count": null,
   "metadata": {},
   "outputs": [],
   "source": [
    "%time is_stealthy2(256128016000000)"
   ]
  },
  {
   "cell_type": "code",
   "execution_count": null,
   "metadata": {},
   "outputs": [],
   "source": [
    "%time is_stealthy2(255999984000000)"
   ]
  },
  {
   "cell_type": "code",
   "execution_count": null,
   "metadata": {},
   "outputs": [],
   "source": [
    "%time is_stealthy2(255872016000000)"
   ]
  },
  {
   "cell_type": "code",
   "execution_count": null,
   "metadata": {},
   "outputs": [],
   "source": [
    "def num_sn_below_(num):\n",
    "    count = 0\n",
    "    for i in produce_stealthy(num):\n",
    "        count += 1\n",
    "    print(count)"
   ]
  },
  {
   "cell_type": "code",
   "execution_count": null,
   "metadata": {},
   "outputs": [],
   "source": [
    "%time num_sn_below_(1000000)"
   ]
  },
  {
   "cell_type": "code",
   "execution_count": null,
   "metadata": {},
   "outputs": [],
   "source": []
  },
  {
   "cell_type": "markdown",
   "metadata": {},
   "source": [
    "### Version 3"
   ]
  },
  {
   "cell_type": "code",
   "execution_count": null,
   "metadata": {},
   "outputs": [],
   "source": [
    "def give_max(arr):\n",
    "    maximum = 0\n",
    "    for i in arr:\n",
    "        h = max(i)\n",
    "        if h > maximum:\n",
    "            maximum = h\n",
    "    print(maximum)\n",
    "    return maximum"
   ]
  },
  {
   "cell_type": "code",
   "execution_count": null,
   "metadata": {},
   "outputs": [],
   "source": [
    "def num_terms(arr):\n",
    "    count = 0\n",
    "    for i in arr:\n",
    "        count += len(i)\n",
    "    print(count)\n",
    "    return count"
   ]
  },
  {
   "cell_type": "code",
   "execution_count": null,
   "metadata": {},
   "outputs": [],
   "source": [
    "def redef(arr, lessthan):\n",
    "    count = 0\n",
    "    new = []\n",
    "    for i in arr:\n",
    "        t = list(filter(lambda x:x<lessthan,i))\n",
    "        if len(t) != 0:\n",
    "            new += [t]\n",
    "    return new"
   ]
  },
  {
   "cell_type": "code",
   "execution_count": null,
   "metadata": {},
   "outputs": [],
   "source": [
    "@njit\n",
    "def stealthy_num(num):\n",
    "    l = [i*(i+1) for i in range(1, num+1)]\n",
    "    r = []\n",
    "    count = 0\n",
    "    u = []\n",
    "    for i in range(len(l)):\n",
    "        u = []\n",
    "        for j in range(i, len(l)):\n",
    "            u.append(l[i]*l[j])\n",
    "        r.append(u)\n",
    "    return r  "
   ]
  },
  {
   "cell_type": "code",
   "execution_count": null,
   "metadata": {
    "scrolled": false
   },
   "outputs": [],
   "source": [
    "%time r = stealthy_num(10)"
   ]
  },
  {
   "cell_type": "code",
   "execution_count": null,
   "metadata": {
    "scrolled": false
   },
   "outputs": [],
   "source": [
    "%time w = stealthy_num(40)"
   ]
  },
  {
   "cell_type": "code",
   "execution_count": null,
   "metadata": {},
   "outputs": [],
   "source": [
    "%time give_max(w)\n",
    "%time num_terms(w)"
   ]
  },
  {
   "cell_type": "code",
   "execution_count": null,
   "metadata": {
    "scrolled": true
   },
   "outputs": [],
   "source": [
    "%time new = redef(w, int(1e6))"
   ]
  },
  {
   "cell_type": "code",
   "execution_count": null,
   "metadata": {},
   "outputs": [],
   "source": [
    "%time give_max(new)\n",
    "num_t = num_terms(new) "
   ]
  },
  {
   "cell_type": "code",
   "execution_count": null,
   "metadata": {},
   "outputs": [],
   "source": [
    "def handling_repeations(new):\n",
    "    repeated = []\n",
    "    for i in range(len(new)-1, 0, -1):\n",
    "        for num in new[i]:\n",
    "            if num not in repeated:\n",
    "                for j in range(i-1, -1, -1):\n",
    "                    if num < new[j][-1]:\n",
    "                        if num in new[j]:\n",
    "                            repeated.append(num)\n",
    "#                             print(num, i+1, j+1, i-j)\n",
    "\n",
    "    return repeated"
   ]
  },
  {
   "cell_type": "code",
   "execution_count": null,
   "metadata": {},
   "outputs": [],
   "source": [
    "%time repeated = handling_repeations(new)"
   ]
  },
  {
   "cell_type": "code",
   "execution_count": null,
   "metadata": {},
   "outputs": [],
   "source": [
    "# print_divisor_pair_sum(458640)"
   ]
  },
  {
   "cell_type": "code",
   "execution_count": null,
   "metadata": {},
   "outputs": [],
   "source": [
    "# repeated"
   ]
  },
  {
   "cell_type": "code",
   "execution_count": null,
   "metadata": {},
   "outputs": [],
   "source": [
    "len(set(repeated))"
   ]
  },
  {
   "cell_type": "code",
   "execution_count": null,
   "metadata": {},
   "outputs": [],
   "source": [
    "r = len(repeated)"
   ]
  },
  {
   "cell_type": "code",
   "execution_count": null,
   "metadata": {},
   "outputs": [],
   "source": [
    "print(r)"
   ]
  },
  {
   "cell_type": "code",
   "execution_count": null,
   "metadata": {},
   "outputs": [],
   "source": [
    "num_t - r"
   ]
  },
  {
   "cell_type": "markdown",
   "metadata": {},
   "source": [
    "### Version 4"
   ]
  },
  {
   "cell_type": "code",
   "execution_count": null,
   "metadata": {},
   "outputs": [],
   "source": [
    "count = 0\n",
    "for i in range(4, n, 2):\n",
    "    if is_stealthy2(i):\n",
    "        count += 1\n",
    "print(count)"
   ]
  },
  {
   "cell_type": "code",
   "execution_count": null,
   "metadata": {},
   "outputs": [],
   "source": [
    "%time tell(10000000)"
   ]
  },
  {
   "cell_type": "markdown",
   "metadata": {},
   "source": [
    "### version "
   ]
  },
  {
   "cell_type": "code",
   "execution_count": 3,
   "metadata": {},
   "outputs": [],
   "source": [
    "@njit\n",
    "def stealthy_num_below(num):\n",
    "    u = set()\n",
    "    for i in range(1, int(((4*(num**(0.5))+1)**(0.5)-1)/2)+1):\n",
    "        first = i*(i+1)\n",
    "        for j in range(i, int(((4*(num/first)+1)**(0.5)-1)/2)+1):\n",
    "            second = j*(j+1)\n",
    "            u.add(first*second)\n",
    "\n",
    "    return len(u)"
   ]
  },
  {
   "cell_type": "code",
   "execution_count": 6,
   "metadata": {},
   "outputs": [
    {
     "name": "stdout",
     "output_type": "stream",
     "text": [
      "Wall time: 3.68 s\n"
     ]
    },
    {
     "data": {
      "text/plain": [
       "22119902"
      ]
     },
     "execution_count": 6,
     "metadata": {},
     "output_type": "execute_result"
    }
   ],
   "source": [
    "%time stealthy_num_below(10000000000000)"
   ]
  },
  {
   "cell_type": "code",
   "execution_count": null,
   "metadata": {},
   "outputs": [],
   "source": []
  },
  {
   "cell_type": "code",
   "execution_count": null,
   "metadata": {},
   "outputs": [],
   "source": []
  },
  {
   "cell_type": "code",
   "execution_count": 15,
   "metadata": {},
   "outputs": [],
   "source": [
    "# y = []\n",
    "z = []\n",
    "x = range(1000000, 1100000)\n",
    "for i in range(1000000, 1100000):\n",
    "    start = time.process_time()\n",
    "    r = stealthy_num_below(i)\n",
    "    end = time.process_time()\n",
    "#     y.append(r)\n",
    "    z.append(float(end-start))"
   ]
  },
  {
   "cell_type": "code",
   "execution_count": 9,
   "metadata": {
    "scrolled": false
   },
   "outputs": [
    {
     "data": {
      "image/png": "[encoded data removed]",
      "text/plain": [
       "<Figure size 432x288 with 1 Axes>"
      ]
     },
     "metadata": {
      "needs_background": "light"
     },
     "output_type": "display_data"
    }
   ],
   "source": [
    "# plt.plot(list(x), y)\n",
    "# plt.show()"
   ]
  },
  {
   "cell_type": "code",
   "execution_count": 17,
   "metadata": {},
   "outputs": [
    {
     "data": {
      "image/png": "[encoded data removed]",
      "text/plain": [
       "<Figure size 432x288 with 1 Axes>"
      ]
     },
     "metadata": {
      "needs_background": "light"
     },
     "output_type": "display_data"
    }
   ],
   "source": [
    "plt.scatter(list(x), z)\n",
    "plt.show()"
   ]
  },
  {
   "cell_type": "markdown",
   "metadata": {},
   "source": [
    "### Version 5\n"
   ]
  },
  {
   "cell_type": "code",
   "execution_count": 35,
   "metadata": {},
   "outputs": [],
   "source": [
    "import matplotlib.pyplot as plt"
   ]
  },
  {
   "cell_type": "code",
   "execution_count": 18,
   "metadata": {},
   "outputs": [],
   "source": [
    "from numba import vectorize, prange"
   ]
  },
  {
   "cell_type": "code",
   "execution_count": 19,
   "metadata": {},
   "outputs": [],
   "source": [
    "@njit\n",
    "def divisor_pair_sum(num):\n",
    "    for i in range(int(num**(0.5)), 0, -1):\n",
    "        if num%i == 0:\n",
    "            yield (i+int(num/i))"
   ]
  },
  {
   "cell_type": "code",
   "execution_count": 20,
   "metadata": {},
   "outputs": [],
   "source": [
    "@njit\n",
    "def is_stealthy2(num):\n",
    "    ans = 0\n",
    "    count = 0\n",
    "    for y in divisor_pair_sum(num):\n",
    "        if y-1 == ans:\n",
    "            return True\n",
    "        ans = y\n",
    "    return False"
   ]
  },
  {
   "cell_type": "code",
   "execution_count": null,
   "metadata": {},
   "outputs": [],
   "source": [
    "np.array(n, dtype='bool')\n",
    "\n",
    "for i in prange(0, len(n)):\n",
    "    "
   ]
  },
  {
   "cell_type": "markdown",
   "metadata": {},
   "source": [
    "### Version"
   ]
  },
  {
   "cell_type": "code",
   "execution_count": 27,
   "metadata": {},
   "outputs": [],
   "source": [
    "def divisor_pair_sum_all(num):\n",
    "    for i in range(1, num+1):\n",
    "        if num%i == 0:\n",
    "            yield (i+int(num/i))"
   ]
  },
  {
   "cell_type": "code",
   "execution_count": 32,
   "metadata": {},
   "outputs": [],
   "source": [
    "def draw(num):\n",
    "    y = []\n",
    "    for i in divisor_pair_sum_all(num):\n",
    "        y.append(i)\n",
    "    x = range(1, len(y)+1)\n",
    "    plt.plot(x, y)\n",
    "    plt.scatter(x, y, c='red')\n",
    "    plt.show()"
   ]
  },
  {
   "cell_type": "code",
   "execution_count": 34,
   "metadata": {},
   "outputs": [
    {
     "data": {
      "image/png": "[encoded data removed]",
      "text/plain": [
       "<Figure size 432x288 with 1 Axes>"
      ]
     },
     "metadata": {
      "needs_background": "light"
     },
     "output_type": "display_data"
    }
   ],
   "source": [
    "draw(24)"
   ]
  },
  {
   "cell_type": "code",
   "execution_count": null,
   "metadata": {},
   "outputs": [],
   "source": []
  }
 ],
 "metadata": {
  "kernelspec": {
   "display_name": "Python 3",
   "language": "python",
   "name": "python3"
  },
  "language_info": {
   "codemirror_mode": {
    "name": "ipython",
    "version": 3
   },
   "file_extension": ".py",
   "mimetype": "text/x-python",
   "name": "python",
   "nbconvert_exporter": "python",
   "pygments_lexer": "ipython3",
   "version": "3.8.5"
  }
 },
 "nbformat": 4,
 "nbformat_minor": 4
}
