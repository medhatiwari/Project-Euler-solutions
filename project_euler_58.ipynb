{
 "cells": [
  {
   "cell_type": "code",
   "execution_count": 2,
   "metadata": {},
   "outputs": [],
   "source": [
    "import numpy as np\n",
    "from numba import jit"
   ]
  },
  {
   "cell_type": "code",
   "execution_count": 15,
   "metadata": {},
   "outputs": [
    {
     "name": "stdout",
     "output_type": "stream",
     "text": [
      "True\n",
      "0.5229606628417969\n"
     ]
    }
   ],
   "source": [
    "from numba import jit\n",
    "import time\n",
    "import math as m\n",
    "@jit(nopython=True)\n",
    "def tellprime(z):\n",
    "    if z==2:\n",
    "        return True\n",
    "    elif z==3:\n",
    "        return True\n",
    "    else:\n",
    "        i = 2\n",
    "        l = m.sqrt(z)\n",
    "        u = True \n",
    "        while i<=l and u:\n",
    "            if z%i==0:\n",
    "                return False\n",
    "                break\n",
    "            elif i+1>l and z%i != 0:\n",
    "                return True\n",
    "                break\n",
    "            else:\n",
    "                i+=1\n",
    "            u = (i%6 in [1,5]) or (i in [2,3])\n",
    "            while u == False:\n",
    "                i+=1\n",
    "                if z%i==0:\n",
    "                    return False\n",
    "                    break\n",
    "                elif i+1>l and z%i != 0:\n",
    "                    return True\n",
    "                    break\n",
    "                u = i%6 in [1,5]\n",
    "\n",
    "\n",
    "#The 570,004,517,329th prime is 16,765,962,748,063.                \n",
    "start = time.time()               \n",
    "print(tellprime(16765962748063))\n",
    "end = time.time()\n",
    "print(end-start)\n"
   ]
  },
  {
   "cell_type": "code",
   "execution_count": 134,
   "metadata": {},
   "outputs": [
    {
     "name": "stdout",
     "output_type": "stream",
     "text": [
      "26241\n"
     ]
    }
   ],
   "source": [
    "n = 5\n",
    "layering = 3\n",
    "no_of_primes = 5\n",
    "while True:\n",
    "    diff = (2*layering)\n",
    "    square  = (2*layering-1)**2\n",
    "    layering+=1\n",
    "    n +=2\n",
    "    if tellprime(square+diff):\n",
    "        no_of_primes+=1\n",
    "    if tellprime(square+2*diff):\n",
    "        no_of_primes+=1\n",
    "    if tellprime(square+3*diff):\n",
    "        no_of_primes+=1\n",
    "    if ((no_of_primes)/(2*n-1))*100<10:\n",
    "        print(n)\n",
    "        break"
   ]
  }
 ],
 "metadata": {
  "kernelspec": {
   "display_name": "Python 3",
   "language": "python",
   "name": "python3"
  },
  "language_info": {
   "codemirror_mode": {
    "name": "ipython",
    "version": 3
   },
   "file_extension": ".py",
   "mimetype": "text/x-python",
   "name": "python",
   "nbconvert_exporter": "python",
   "pygments_lexer": "ipython3",
   "version": "3.8.5"
  }
 },
 "nbformat": 4,
 "nbformat_minor": 4
}
