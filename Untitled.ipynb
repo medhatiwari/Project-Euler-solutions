{
 "cells": [
  {
   "cell_type": "code",
   "execution_count": 6,
   "metadata": {},
   "outputs": [],
   "source": [
    "from numba import njit"
   ]
  },
  {
   "cell_type": "code",
   "execution_count": 7,
   "metadata": {},
   "outputs": [],
   "source": [
    "@njit\n",
    "def divisor_pair_sum(num):\n",
    "    for i in range(int(num**(0.5)), 0, -1):\n",
    "        if num%i == 0:\n",
    "            yield (i+int(num/i))"
   ]
  },
  {
   "cell_type": "code",
   "execution_count": 8,
   "metadata": {},
   "outputs": [],
   "source": [
    "@njit\n",
    "def is_stealthy2(num):\n",
    "    ans = 0\n",
    "    count = 0\n",
    "    for y in divisor_pair_sum(num):\n",
    "        if y-1 == ans:\n",
    "            return True\n",
    "        ans = y\n",
    "    return False"
   ]
  },
  {
   "cell_type": "code",
   "execution_count": 10,
   "metadata": {},
   "outputs": [
    {
     "name": "stdout",
     "output_type": "stream",
     "text": [
      "10908\n"
     ]
    }
   ],
   "source": [
    "count = 0\n",
    "for i in range(4, 10000000, 2):\n",
    "    if is_stealthy2(i):\n",
    "        count += 1\n",
    "print(count)"
   ]
  },
  {
   "cell_type": "code",
   "execution_count": null,
   "metadata": {},
   "outputs": [],
   "source": []
  }
 ],
 "metadata": {
  "kernelspec": {
   "display_name": "Python 3",
   "language": "python",
   "name": "python3"
  },
  "language_info": {
   "codemirror_mode": {
    "name": "ipython",
    "version": 3
   },
   "file_extension": ".py",
   "mimetype": "text/x-python",
   "name": "python",
   "nbconvert_exporter": "python",
   "pygments_lexer": "ipython3",
   "version": "3.8.5"
  }
 },
 "nbformat": 4,
 "nbformat_minor": 4
}
