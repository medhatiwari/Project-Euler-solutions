{
 "cells": [
  {
   "cell_type": "code",
   "execution_count": 1,
   "metadata": {},
   "outputs": [
    {
     "name": "stdout",
     "output_type": "stream",
     "text": [
      "Collecting numba\n",
      "  Using cached numba-0.53.1-cp39-cp39-win_amd64.whl (2.3 MB)\n",
      "Requirement already satisfied: setuptools in c:\\users\\user\\anaconda3\\envs\\stage_2\\lib\\site-packages (from numba) (52.0.0.post20210125)\n",
      "Collecting llvmlite<0.37,>=0.36.0rc1\n",
      "  Using cached llvmlite-0.36.0-cp39-cp39-win_amd64.whl (16.0 MB)\n",
      "Collecting numpy>=1.15\n",
      "  Using cached numpy-1.20.3-cp39-cp39-win_amd64.whl (13.7 MB)\n",
      "Installing collected packages: numpy, llvmlite, numba\n",
      "Successfully installed llvmlite-0.36.0 numba-0.53.1 numpy-1.20.3\n"
     ]
    }
   ],
   "source": [
    "!pip install numba"
   ]
  },
  {
   "cell_type": "code",
   "execution_count": 2,
   "metadata": {},
   "outputs": [
    {
     "name": "stdout",
     "output_type": "stream",
     "text": [
      "Requirement already satisfied: numpy in c:\\users\\user\\anaconda3\\envs\\stage_2\\lib\\site-packages (1.20.3)\n"
     ]
    }
   ],
   "source": [
    "!pip install numpy"
   ]
  },
  {
   "cell_type": "code",
   "execution_count": 3,
   "metadata": {},
   "outputs": [],
   "source": [
    "from decimal import *\n",
    "import math as m\n",
    "import time"
   ]
  },
  {
   "cell_type": "code",
   "execution_count": 4,
   "metadata": {},
   "outputs": [],
   "source": [
    "import numpy as np\n",
    "from numba import jit"
   ]
  },
  {
   "cell_type": "code",
   "execution_count": 5,
   "metadata": {},
   "outputs": [],
   "source": [
    "integer = int"
   ]
  },
  {
   "cell_type": "code",
   "execution_count": 6,
   "metadata": {},
   "outputs": [],
   "source": [
    "@jit(nopython=True)\n",
    "def tell2(r,radius,radius_squared):\n",
    "    def uff(z):\n",
    "        y = int(z)\n",
    "        if z==y:\n",
    "            return 8*(y-1)\n",
    "        else:\n",
    "            return 8*y    \n",
    "    count  = 0\n",
    "    x = np.arange(integer(r/8)+1,integer(radius)+1)\n",
    "    count += 4*len(x)\n",
    "    x = radius_squared-(x**2)\n",
    "    x = np.array(list(map(np.sqrt,x)))\n",
    "    arr = np.array(list(map(uff,x)))\n",
    "    count += arr.sum()\n",
    "    return count"
   ]
  },
  {
   "cell_type": "code",
   "execution_count": 17,
   "metadata": {},
   "outputs": [],
   "source": [
    "def operate3(r):\n",
    "    count = integer(((r*r)*(3/2)))+integer(((integer(r/4)+1)**2)-3-integer(r/4))\n",
    "    radius = (r/8)*(2**0.5)\n",
    "    radius_squared = integer(((r*r)/32))\n",
    "    count += tell2(r,radius,radius_squared)\n",
    "    return count"
   ]
  },
  {
   "cell_type": "code",
   "execution_count": 18,
   "metadata": {
    "scrolled": true
   },
   "outputs": [
    {
     "name": "stdout",
     "output_type": "stream",
     "text": [
      "1597880\n",
      "0.0009989738464355469\n"
     ]
    }
   ],
   "source": [
    "start = time.time()\n",
    "print(operate3(1000))\n",
    "end = time.time()\n",
    "print(end-start)"
   ]
  },
  {
   "cell_type": "code",
   "execution_count": 19,
   "metadata": {},
   "outputs": [
    {
     "name": "stdout",
     "output_type": "stream",
     "text": [
      "159814790\n",
      "0.000997781753540039\n"
     ]
    }
   ],
   "source": [
    "start = time.time()\n",
    "print(operate3(10000))\n",
    "end = time.time()\n",
    "print(end-start)"
   ]
  },
  {
   "cell_type": "code",
   "execution_count": 20,
   "metadata": {},
   "outputs": [
    {
     "name": "stdout",
     "output_type": "stream",
     "text": [
      "15981722482\n",
      "0.0049953460693359375\n"
     ]
    }
   ],
   "source": [
    "start = time.time()\n",
    "print(operate3(100000))\n",
    "end = time.time()\n",
    "print(end-start)"
   ]
  },
  {
   "cell_type": "code",
   "execution_count": 21,
   "metadata": {},
   "outputs": [
    {
     "name": "stdout",
     "output_type": "stream",
     "text": [
      "1598174519142\n",
      "0.05096793174743652\n"
     ]
    }
   ],
   "source": [
    "start = time.time()\n",
    "print(operate3(1000000))\n",
    "end = time.time()\n",
    "print(end-start)"
   ]
  },
  {
   "cell_type": "code",
   "execution_count": 22,
   "metadata": {},
   "outputs": [
    {
     "name": "stdout",
     "output_type": "stream",
     "text": [
      "159817474536486\n",
      "0.4782869815826416\n"
     ]
    }
   ],
   "source": [
    "start = time.time()\n",
    "print(operate3(10000000))\n",
    "end = time.time()\n",
    "print(end-start)"
   ]
  },
  {
   "cell_type": "code",
   "execution_count": 23,
   "metadata": {},
   "outputs": [
    {
     "name": "stdout",
     "output_type": "stream",
     "text": [
      "15981747679237090\n",
      "4.8159685134887695\n"
     ]
    }
   ],
   "source": [
    "start = time.time()\n",
    "print(operate3(100000000))\n",
    "end = time.time()\n",
    "print(end-start)"
   ]
  },
  {
   "cell_type": "code",
   "execution_count": 24,
   "metadata": {
    "scrolled": true
   },
   "outputs": [
    {
     "name": "stdout",
     "output_type": "stream",
     "text": [
      "1598174770174689458\n",
      "49.43065333366394\n"
     ]
    }
   ],
   "source": [
    "start = time.time()\n",
    "print(operate3(1000000000))\n",
    "end = time.time()\n",
    "print(end-start)"
   ]
  },
  {
   "cell_type": "code",
   "execution_count": null,
   "metadata": {},
   "outputs": [],
   "source": []
  },
  {
   "cell_type": "code",
   "execution_count": 16,
   "metadata": {},
   "outputs": [],
   "source": [
    "# here is tell version 3 function\n",
    "# this version does not use numpy array and numba libraray and hence it is slower\n",
    "# it takes around 2.5 minutes for 10**9\n",
    "integer = int\n",
    "def tell3(r,radius,radius_squared):\n",
    "    count  = 0\n",
    "    for x in range(integer(r/8)+1,integer(radius)+1):\n",
    "        count += 4\n",
    "        k = radius_squared-(x**2)\n",
    "        z = k**0.5\n",
    "        y = integer(z)\n",
    "        if z==y:\n",
    "            count += 8*(y-1)\n",
    "        else:\n",
    "            count += 8*y\n",
    "        del y\n",
    "        del z\n",
    "        del k\n",
    "    return count"
   ]
  },
  {
   "cell_type": "code",
   "execution_count": null,
   "metadata": {},
   "outputs": [],
   "source": []
  }
 ],
 "metadata": {
  "kernelspec": {
   "display_name": "Python 3",
   "language": "python",
   "name": "python3"
  },
  "language_info": {
   "codemirror_mode": {
    "name": "ipython",
    "version": 3
   },
   "file_extension": ".py",
   "mimetype": "text/x-python",
   "name": "python",
   "nbconvert_exporter": "python",
   "pygments_lexer": "ipython3",
   "version": "3.9.5"
  }
 },
 "nbformat": 4,
 "nbformat_minor": 4
}
