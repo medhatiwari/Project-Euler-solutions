{
 "cells": [
  {
   "cell_type": "code",
   "execution_count": 2,
   "metadata": {},
   "outputs": [],
   "source": [
    "l1 = ['0','1','2','3','4','5','6','7','8','9']\n",
    "seperator = ''"
   ]
  },
  {
   "cell_type": "code",
   "execution_count": 5,
   "metadata": {},
   "outputs": [
    {
     "name": "stdout",
     "output_type": "stream",
     "text": [
      "2783915460\n"
     ]
    }
   ],
   "source": [
    "count = 0\n",
    "for q in l1:\n",
    "    for w in l1:\n",
    "        if w!=q:\n",
    "            for e in l1:\n",
    "                if e!=q and e!=w:\n",
    "                    for r in l1:\n",
    "                        if r!=q and r!=w and r!=e:\n",
    "                            for t in l1:\n",
    "                                if t!=q and t!=w and t!=e and t!=r:\n",
    "                                    for y in l1:\n",
    "                                        if y!=q and y!=w and y!=e and y!=r and y!=t:\n",
    "                                            for u in l1:\n",
    "                                                if u!= q and u!=w and u!=e and u!=r and u!=t and u!=y:\n",
    "                                                    for i in l1:\n",
    "                                                        if i!=q and i!=w and i!=e and i!=r and i!=t and i!=y and i!=u:\n",
    "                                                            for o in l1:\n",
    "                                                                if o!=q and o!=w and o!=e and o!=r and o!=t and o!=y and o!=u and o!=i:\n",
    "                                                                    for p in l1:\n",
    "                                                                        if p!=q and p!=w and p!=e and p!=r and p!=t and p!=y and p!=u and p!=i and p!=o:\n",
    "                                                                            count +=1\n",
    "                                                                            if count==1000000:\n",
    "                                                                                num = seperator.join([q,w,e,r,t,y,u,i,o,p])\n",
    "                                                                                print(num)\n",
    "                                                                                break"
   ]
  },
  {
   "cell_type": "code",
   "execution_count": null,
   "metadata": {},
   "outputs": [],
   "source": []
  }
 ],
 "metadata": {
  "kernelspec": {
   "display_name": "Python 3",
   "language": "python",
   "name": "python3"
  },
  "language_info": {
   "codemirror_mode": {
    "name": "ipython",
    "version": 3
   },
   "file_extension": ".py",
   "mimetype": "text/x-python",
   "name": "python",
   "nbconvert_exporter": "python",
   "pygments_lexer": "ipython3",
   "version": "3.8.5"
  }
 },
 "nbformat": 4,
 "nbformat_minor": 4
}
