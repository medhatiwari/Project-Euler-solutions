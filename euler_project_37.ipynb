{
 "cells": [
  {
   "cell_type": "code",
   "execution_count": 1,
   "metadata": {},
   "outputs": [
    {
     "data": {
      "text/plain": [
       "True"
      ]
     },
     "execution_count": 1,
     "metadata": {},
     "output_type": "execute_result"
    }
   ],
   "source": [
    "import numpy as np\n",
    "from numba import njit\n",
    "import math as m \n",
    "import time\n",
    "start = time.time()\n",
    "@njit\n",
    "def tellprime(z):\n",
    "    if z==1:\n",
    "        return False\n",
    "    elif z==2:\n",
    "        return True\n",
    "    elif z==3:\n",
    "        return True\n",
    "    else:\n",
    "        i = 2\n",
    "        l = m.sqrt(z)\n",
    "        u = True \n",
    "        while i<=l and u:\n",
    "            if z%i==0:\n",
    "                return False\n",
    "                break\n",
    "            elif i+1>l and z%i != 0:\n",
    "                return True\n",
    "                break\n",
    "            else:\n",
    "                i+=1\n",
    "            u = (i%6 in [1,5]) or (i in [2,3])\n",
    "            while u == False:\n",
    "                i+=1\n",
    "                if z%i==0:\n",
    "                    return False\n",
    "                    break\n",
    "                elif i+1>l and z%i != 0:\n",
    "                    return True\n",
    "                    break\n",
    "                u = i%6 in [1,5]              \n",
    "tellprime(23)   "
   ]
  },
  {
   "cell_type": "code",
   "execution_count": 7,
   "metadata": {},
   "outputs": [],
   "source": [
    "def is_truncable_prime(num):\n",
    "    if tellprime(num):\n",
    "        seperator = ''\n",
    "        num = list(str(num))\n",
    "        for i in range(1,len(num)):\n",
    "            trash = num[0:i]\n",
    "            if tellprime(int(seperator.join(trash)))==False:\n",
    "                return False\n",
    "        for i in range(1,len(num)):\n",
    "            trash = num[i:len(num)]\n",
    "            if tellprime(int(seperator.join(trash)))==False:\n",
    "                return False\n",
    "        return True\n",
    "    else:\n",
    "        return False"
   ]
  },
  {
   "cell_type": "code",
   "execution_count": 8,
   "metadata": {},
   "outputs": [
    {
     "data": {
      "text/plain": [
       "True"
      ]
     },
     "execution_count": 8,
     "metadata": {},
     "output_type": "execute_result"
    }
   ],
   "source": [
    "is_truncable_prime(3797)"
   ]
  },
  {
   "cell_type": "code",
   "execution_count": 9,
   "metadata": {},
   "outputs": [],
   "source": [
    "arr = np.arange(10,10000000)"
   ]
  },
  {
   "cell_type": "code",
   "execution_count": 10,
   "metadata": {},
   "outputs": [],
   "source": [
    "arr_new = np.array(list(filter(is_truncable_prime,arr)))"
   ]
  },
  {
   "cell_type": "code",
   "execution_count": 12,
   "metadata": {},
   "outputs": [
    {
     "data": {
      "text/plain": [
       "748317"
      ]
     },
     "execution_count": 12,
     "metadata": {},
     "output_type": "execute_result"
    }
   ],
   "source": [
    "arr_new.sum()"
   ]
  },
  {
   "cell_type": "code",
   "execution_count": null,
   "metadata": {},
   "outputs": [],
   "source": []
  }
 ],
 "metadata": {
  "kernelspec": {
   "display_name": "Python 3",
   "language": "python",
   "name": "python3"
  },
  "language_info": {
   "codemirror_mode": {
    "name": "ipython",
    "version": 3
   },
   "file_extension": ".py",
   "mimetype": "text/x-python",
   "name": "python",
   "nbconvert_exporter": "python",
   "pygments_lexer": "ipython3",
   "version": "3.8.5"
  }
 },
 "nbformat": 4,
 "nbformat_minor": 4
}
