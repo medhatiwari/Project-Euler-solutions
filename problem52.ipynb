{
 "cells": [
  {
   "cell_type": "code",
   "execution_count": 1,
   "metadata": {},
   "outputs": [
    {
     "name": "stdout",
     "output_type": "stream",
     "text": [
      "Populating the interactive namespace from numpy and matplotlib\n"
     ]
    }
   ],
   "source": [
    "%pylab inline"
   ]
  },
  {
   "cell_type": "code",
   "execution_count": 2,
   "metadata": {},
   "outputs": [],
   "source": [
    "def compare(a, b):\n",
    "    a = list(str(a))\n",
    "    b = list(str(b))\n",
    "    for i in a:\n",
    "        if i not in b:\n",
    "            return False\n",
    "        else:\n",
    "            b.remove(i)\n",
    "    return True"
   ]
  },
  {
   "cell_type": "code",
   "execution_count": 3,
   "metadata": {},
   "outputs": [],
   "source": [
    "def is_special(j):\n",
    "    if compare(j, 2*j):\n",
    "        if compare(j, 3*j):\n",
    "            if compare(j, 4*j):\n",
    "                if compare(j, 5*j):\n",
    "                    if compare(j, 6*j):\n",
    "                        return True\n",
    "    return False"
   ]
  },
  {
   "cell_type": "code",
   "execution_count": 4,
   "metadata": {},
   "outputs": [],
   "source": [
    "def answer():\n",
    "    z = 0\n",
    "    for i in range(0,10):\n",
    "        for j in range(10**i, int(10**(i+1)/6)+1):\n",
    "            if compare(j, 2*j):\n",
    "                if compare(j, 3*j):\n",
    "                    if compare(j, 4*j):\n",
    "                        if compare(j, 5*j):\n",
    "                            if compare(j, 6*j):\n",
    "                                z = 1\n",
    "                                print(j)\n",
    "                                break\n",
    "        if z:\n",
    "            break"
   ]
  },
  {
   "cell_type": "code",
   "execution_count": 5,
   "metadata": {},
   "outputs": [
    {
     "name": "stdout",
     "output_type": "stream",
     "text": [
      "142857\n",
      "Wall time: 67 ms\n"
     ]
    }
   ],
   "source": [
    "%time answer()"
   ]
  }
 ],
 "metadata": {
  "kernelspec": {
   "display_name": "Python 3",
   "language": "python",
   "name": "python3"
  },
  "language_info": {
   "codemirror_mode": {
    "name": "ipython",
    "version": 3
   },
   "file_extension": ".py",
   "mimetype": "text/x-python",
   "name": "python",
   "nbconvert_exporter": "python",
   "pygments_lexer": "ipython3",
   "version": "3.8.5"
  }
 },
 "nbformat": 4,
 "nbformat_minor": 4
}
